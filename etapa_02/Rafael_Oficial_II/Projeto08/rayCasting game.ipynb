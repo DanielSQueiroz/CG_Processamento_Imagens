{
 "cells": [
  {
   "cell_type": "code",
   "execution_count": 9,
   "metadata": {
    "scrolled": true
   },
   "outputs": [
    {
     "ename": "ModuleNotFoundError",
     "evalue": "No module named 'keyboard'",
     "output_type": "error",
     "traceback": [
      "\u001b[1;31m---------------------------------------------------------------------------\u001b[0m",
      "\u001b[1;31mModuleNotFoundError\u001b[0m                       Traceback (most recent call last)",
      "\u001b[1;32m<ipython-input-9-26f74c5fe9ea>\u001b[0m in \u001b[0;36m<module>\u001b[1;34m\u001b[0m\n\u001b[0;32m      1\u001b[0m \u001b[1;32mimport\u001b[0m \u001b[0mnumpy\u001b[0m \u001b[1;32mas\u001b[0m \u001b[0mnp\u001b[0m\u001b[1;33m\u001b[0m\u001b[1;33m\u001b[0m\u001b[0m\n\u001b[0;32m      2\u001b[0m \u001b[1;32mfrom\u001b[0m \u001b[0mmatplotlib\u001b[0m \u001b[1;32mimport\u001b[0m \u001b[0mpyplot\u001b[0m \u001b[1;32mas\u001b[0m \u001b[0mplt\u001b[0m\u001b[1;33m\u001b[0m\u001b[1;33m\u001b[0m\u001b[0m\n\u001b[1;32m----> 3\u001b[1;33m \u001b[1;32mimport\u001b[0m \u001b[0mkeyboard\u001b[0m\u001b[1;33m\u001b[0m\u001b[1;33m\u001b[0m\u001b[0m\n\u001b[0m\u001b[0;32m      4\u001b[0m \u001b[1;33m\u001b[0m\u001b[0m\n\u001b[0;32m      5\u001b[0m mapa = [[1,1,1,1,1],\n",
      "\u001b[1;31mModuleNotFoundError\u001b[0m: No module named 'keyboard'"
     ]
    }
   ],
   "source": [
    "import numpy as np\n",
    "from matplotlib import pyplot as plt\n",
    "import keyboard\n",
    "\n",
    "mapa = [[1,1,1,1,1],\n",
    "        [1,0,0,0,1],\n",
    "        [1,0,1,0,1],\n",
    "        [1,0,0,0,1],\n",
    "        [1,1,1,1,1]]\n",
    "\n",
    "for i in range(len(mapa[0])):\n",
    "    for j in range(len(mapa[1])):\n",
    "        if mapa [i] [j] == 1:\n",
    "            mapa[i] [j] = list(np.random.uniform(0,1,3))\n",
    "\n",
    "posx, posy = (1,1)\n",
    "exitx, exity = (3,3)\n",
    "rot = np.pi/4\n",
    "\n",
    "while True:                   \n",
    "\n",
    "    plt.hlines (-0.6, 0, 60, colors='gray', lw=165, alpha=0.5)\n",
    "    plt.hlines (0.6, 0, 60, colors='lightblue', lw=165, alpha=0.5)\n",
    "    tilex, tiley, tilec = ([], [], [])\n",
    "        \n",
    "    for i in range(60):\n",
    "        rot_i = rot + np.deg2rad(i - 30)\n",
    "    x, y = (posx, posy)\n",
    "    sin, cos = (0.02*np.sin(rot_i), 0.02*cos(rot_i))\n",
    "    n = 0\n",
    "    while True:\n",
    "        xx, yy = (x, y)\n",
    "        x, y = (x + cos, y + sin)\n",
    "        n = n+1\n",
    "        if abs(int(3*xx)-int(3*x)) > 0 or abs(int(3*yy)-int(3*y))>0:\n",
    "            tilex.append(i)\n",
    "            tiley.append(-1/(0.02 * n))\n",
    "            if int(x) == exitx and int(y) == exity:\n",
    "                tilec.append('b')\n",
    "            else:\n",
    "                tilec.append('k')\n",
    "       \n",
    "    \n",
    "    if mapa [int(x)] [int(y)] != 0:\n",
    "            h = np.clip(1/(0.02 * n), 0, 1)\n",
    "            c = np.asarray(mapa[int(x)] [int(y)])*(0.3 + 0.7 * h**2)       \n",
    "            break\n",
    "    plt.vlines(i, -h, h, lw = 8, colors = c)\n",
    "    \n",
    "    plt.scatter(tilex, tiley, c = tilec)\n",
    "    \n",
    "    plt.axis('off'); plt.tight_layout(); plt.axis([0, 60, -1, 1])\n",
    "    plt.draw(); plt.pause(0.0001); plt.clf()\n",
    "    \n",
    "    key = keyboar.read_key()\n",
    "    x, y = (posx, posy)\n",
    "    \n",
    "    if key == 'up':\n",
    "        x, y = (x + 0.3*np.cos(rot), y + 0.3*np.sin(rot))\n",
    "    elif key == 'down':\n",
    "        x, y = (x - 0.3*np.cos(rot), y - 0.3*np.sin(rot))\n",
    "    elif key == 'left':\n",
    "        rot = rot - np.pi/8\n",
    "    elif key == 'right':\n",
    "        rot = rot + np.pi/8\n",
    "    elif key == 'esc':\n",
    "        break\n",
    "        \n",
    "if mapa[int(x)] [int(y)] == 0:\n",
    "    if int(posx) == exitx and int(posy) == exity:\n",
    "        break\n",
    "    posx, posy = (x, y)    \n",
    "\n",
    "plt.close()\n"
   ]
  },
  {
   "cell_type": "code",
   "execution_count": null,
   "metadata": {},
   "outputs": [],
   "source": []
  },
  {
   "cell_type": "code",
   "execution_count": null,
   "metadata": {},
   "outputs": [],
   "source": []
  }
 ],
 "metadata": {
  "kernelspec": {
   "display_name": "Python 3",
   "language": "python",
   "name": "python3"
  },
  "language_info": {
   "codemirror_mode": {
    "name": "ipython",
    "version": 3
   },
   "file_extension": ".py",
   "mimetype": "text/x-python",
   "name": "python",
   "nbconvert_exporter": "python",
   "pygments_lexer": "ipython3",
   "version": "3.8.5"
  }
 },
 "nbformat": 4,
 "nbformat_minor": 4
}
